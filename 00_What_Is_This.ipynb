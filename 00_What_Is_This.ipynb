{
 "cells": [
  {
   "cell_type": "markdown",
   "metadata": {},
   "source": [
    "# What Is This?"
   ]
  },
  {
   "cell_type": "markdown",
   "metadata": {},
   "source": [
    "I want to start contributing more to and participating in [#IndieWeb](https://indieweb.org/). It's a cool community. But, my [selfdogfood](https://indieweb.org/selfdogfood) is [different](https://indieweb.org/different), since I tend to approach things from a datascience-y way. Therefore, this repo is me learning about IndieWeb through Jupyter-based explorations."
   ]
  }
 ],
 "metadata": {
  "kernelspec": {
   "display_name": "Python 3",
   "language": "python",
   "name": "python3"
  },
  "language_info": {
   "codemirror_mode": {
    "name": "ipython",
    "version": 3
   },
   "file_extension": ".py",
   "mimetype": "text/x-python",
   "name": "python",
   "nbconvert_exporter": "python",
   "pygments_lexer": "ipython3",
   "version": "3.7.3"
  }
 },
 "nbformat": 4,
 "nbformat_minor": 4
}
