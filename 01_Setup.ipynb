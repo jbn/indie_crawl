{
 "cells": [
  {
   "cell_type": "markdown",
   "metadata": {},
   "source": [
    "# Setup"
   ]
  },
  {
   "cell_type": "markdown",
   "metadata": {},
   "source": [
    "I'll add a full-setup with a python `requirements.txt` or a Dockerized version of this project later. For now the most critical component is starting an elasticsearch instance locally with a persistent volume. "
   ]
  },
  {
   "cell_type": "code",
   "execution_count": 5,
   "metadata": {},
   "outputs": [
    {
     "name": "stdout",
     "output_type": "stream",
     "text": [
      "version: '2.2'\n",
      "services:\n",
      "  es01:\n",
      "    image: docker.elastic.co/elasticsearch/elasticsearch:7.5.0\n",
      "    container_name: elasticsearch\n",
      "    environment:\n",
      "      - discovery.type=single-node\n",
      "    ulimits:\n",
      "      memlock:\n",
      "        soft: -1\n",
      "        hard: -1\n",
      "    volumes:\n",
      "      - data01:/usr/share/elasticsearch/data\n",
      "    ports:\n",
      "      - 9200:9200\n",
      "    networks:\n",
      "      - elastic\n",
      "  \n",
      "volumes:\n",
      "  data01:\n",
      "    driver: local\n",
      "\n",
      "networks:\n",
      "  elastic:\n",
      "    driver: bridge"
     ]
    }
   ],
   "source": [
    "!cat docker-compose.yml"
   ]
  },
  {
   "cell_type": "markdown",
   "metadata": {},
   "source": [
    "To run, execute,\n",
    "\n",
    "```sh\n",
    "docker-compose up\n",
    "```"
   ]
  },
  {
   "cell_type": "code",
   "execution_count": null,
   "metadata": {},
   "outputs": [],
   "source": []
  }
 ],
 "metadata": {
  "kernelspec": {
   "display_name": "Python 3",
   "language": "python",
   "name": "python3"
  },
  "language_info": {
   "codemirror_mode": {
    "name": "ipython",
    "version": 3
   },
   "file_extension": ".py",
   "mimetype": "text/x-python",
   "name": "python",
   "nbconvert_exporter": "python",
   "pygments_lexer": "ipython3",
   "version": "3.7.4"
  }
 },
 "nbformat": 4,
 "nbformat_minor": 4
}
